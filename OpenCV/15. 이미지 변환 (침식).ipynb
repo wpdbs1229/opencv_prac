{
 "cells": [
  {
   "cell_type": "markdown",
   "id": "8c127ddf-061c-43ec-bd3e-39f18ac6f70c",
   "metadata": {},
   "source": [
    "# 15. 이미지 변환(침식)"
   ]
  },
  {
   "cell_type": "markdown",
   "id": "52ed9fdc-ebe3-4a31-979d-b85711035a00",
   "metadata": {},
   "source": [
    "### 이미지를 깍아서 노이즈 제거\n",
    "\n",
    "흰색 영역의 외곽 픽셀을 검은색으로 변경"
   ]
  },
  {
   "cell_type": "code",
   "execution_count": 7,
   "id": "d07aefc4-5b29-4fc4-a8bb-a0688ff9a8a9",
   "metadata": {},
   "outputs": [],
   "source": [
    "import cv2\n",
    "import numpy as np\n",
    "\n",
    "kernel = np.ones((3,3), dtype=np.uint8)\n",
    "\n",
    "img = cv2.imread('dilate&erosion.png', cv2.IMREAD_GRAYSCALE)\n",
    "\n",
    "erode1 = cv2.erode(img, kernel, iterations =1) # 1회 반복\n",
    "erode2 = cv2.erode(img, kernel, iterations =2) # 1회 반복\n",
    "erode3 = cv2.erode(img, kernel, iterations =3) # 1회 반복\n",
    "\n",
    "cv2.imshow('erode1', erode1)\n",
    "cv2.imshow('erode2', erode2)\n",
    "cv2.imshow('erode3', erode3)\n",
    "cv2.waitKey(0)\n",
    "cv2.destroyAllWindows()"
   ]
  }
 ],
 "metadata": {
  "kernelspec": {
   "display_name": "Python 3 (ipykernel)",
   "language": "python",
   "name": "python3"
  },
  "language_info": {
   "codemirror_mode": {
    "name": "ipython",
    "version": 3
   },
   "file_extension": ".py",
   "mimetype": "text/x-python",
   "name": "python",
   "nbconvert_exporter": "python",
   "pygments_lexer": "ipython3",
   "version": "3.11.7"
  }
 },
 "nbformat": 4,
 "nbformat_minor": 5
}
