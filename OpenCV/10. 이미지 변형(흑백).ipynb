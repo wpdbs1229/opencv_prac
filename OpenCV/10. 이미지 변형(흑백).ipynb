{
 "cells": [
  {
   "cell_type": "markdown",
   "id": "c13cd5f7-1083-47a8-a9b8-452d75bd42c5",
   "metadata": {},
   "source": [
    "# 10. 이미지 변형(흑백)"
   ]
  },
  {
   "cell_type": "markdown",
   "id": "bc3ead43-f511-4997-b72f-a9e1eeac0f21",
   "metadata": {},
   "source": [
    "이미지를 흑백으로 읽음"
   ]
  },
  {
   "cell_type": "code",
   "execution_count": null,
   "id": "c074ef44-ed9d-4a5a-8954-0c259c2d0313",
   "metadata": {},
   "outputs": [],
   "source": [
    "import cv2\n",
    "img = cv2.imread('img.jpg', cv2.IMREAD_GRAYSCALE)\n",
    "\n",
    "cv2.imshow('img',img)\n",
    "cv2.waitKey(0)\n",
    "cv2.destroyAllWindows()"
   ]
  },
  {
   "cell_type": "markdown",
   "id": "b7c65cbf-6ca6-44d1-89f0-7eb0ba1286a8",
   "metadata": {},
   "source": [
    "불러온 이미지를 흑백으로 변경"
   ]
  },
  {
   "cell_type": "code",
   "execution_count": 3,
   "id": "ab072738-ebaa-4ddf-a108-7f136c04b0a0",
   "metadata": {},
   "outputs": [],
   "source": [
    "import cv2\n",
    "img = cv2.imread('img.jpg')\n",
    "\n",
    "dst = cv2.cvtColor(img, cv2.COLOR_BGR2GRAY)\n",
    "\n",
    "cv2.imshow('img',img)\n",
    "cv2.imshow('gray',dst)\n",
    "cv2.waitKey(0)\n",
    "cv2.destroyAllWindows()"
   ]
  }
 ],
 "metadata": {
  "kernelspec": {
   "display_name": "Python 3 (ipykernel)",
   "language": "python",
   "name": "python3"
  },
  "language_info": {
   "codemirror_mode": {
    "name": "ipython",
    "version": 3
   },
   "file_extension": ".py",
   "mimetype": "text/x-python",
   "name": "python",
   "nbconvert_exporter": "python",
   "pygments_lexer": "ipython3",
   "version": "3.11.7"
  }
 },
 "nbformat": 4,
 "nbformat_minor": 5
}
